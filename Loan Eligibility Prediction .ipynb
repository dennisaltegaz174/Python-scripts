{
 "cells": [
  {
   "cell_type": "code",
   "execution_count": 1,
   "id": "0a572991-9362-4baa-9d11-0a87c5771ddf",
   "metadata": {},
   "outputs": [],
   "source": [
    "# Importing  relevant libraries\n",
    "import numpy as np\n",
    "import pandas as pd\n",
    "import seaborn as sns\n",
    "import matplotlib.pyplot as plt\n",
    "sns.set()\n",
    "\n",
    "import warnings \n",
    "warnings.filterwarnings(\"ignore\")\n",
    "\n",
    "from sklearn.model_selection import  train_test_split as tts\n",
    "from sklearn.preprocessing import StandardScaler, OneHotEncoder\n",
    "from sklearn.metrics import accuracy_score,f1_score,classification_report"
   ]
  },
  {
   "cell_type": "markdown",
   "id": "c4a2879e-c3cd-47f0-a2f4-e56887114c81",
   "metadata": {},
   "source": [
    " ## Loading the data"
   ]
  },
  {
   "cell_type": "code",
   "execution_count": 2,
   "id": "fb996d11-2dd2-4f08-9436-3bd12cea30c7",
   "metadata": {},
   "outputs": [],
   "source": [
    "train_loan_df = pd.read_csv(\"C:/Users/adm/Documents/Datasets/loan eligibility/loan-train.csv\")\n",
    "test_loan_df = pd.read_csv(\"C:/Users/adm/Documents/Datasets/loan eligibility/loan-test.csv\")"
   ]
  },
  {
   "cell_type": "code",
   "execution_count": 6,
   "id": "a61751c2-928f-4a9a-b560-5b795f1ffacc",
   "metadata": {},
   "outputs": [
    {
     "data": {
      "text/html": [
       "<div>\n",
       "<style scoped>\n",
       "    .dataframe tbody tr th:only-of-type {\n",
       "        vertical-align: middle;\n",
       "    }\n",
       "\n",
       "    .dataframe tbody tr th {\n",
       "        vertical-align: top;\n",
       "    }\n",
       "\n",
       "    .dataframe thead th {\n",
       "        text-align: right;\n",
       "    }\n",
       "</style>\n",
       "<table border=\"1\" class=\"dataframe\">\n",
       "  <thead>\n",
       "    <tr style=\"text-align: right;\">\n",
       "      <th></th>\n",
       "      <th>Loan_ID</th>\n",
       "      <th>Gender</th>\n",
       "      <th>Married</th>\n",
       "      <th>Dependents</th>\n",
       "      <th>Education</th>\n",
       "      <th>Self_Employed</th>\n",
       "      <th>ApplicantIncome</th>\n",
       "      <th>CoapplicantIncome</th>\n",
       "      <th>LoanAmount</th>\n",
       "      <th>Loan_Amount_Term</th>\n",
       "      <th>Credit_History</th>\n",
       "      <th>Property_Area</th>\n",
       "      <th>Loan_Status</th>\n",
       "    </tr>\n",
       "  </thead>\n",
       "  <tbody>\n",
       "    <tr>\n",
       "      <th>0</th>\n",
       "      <td>LP001002</td>\n",
       "      <td>Male</td>\n",
       "      <td>No</td>\n",
       "      <td>0</td>\n",
       "      <td>Graduate</td>\n",
       "      <td>No</td>\n",
       "      <td>5849</td>\n",
       "      <td>0.0</td>\n",
       "      <td>NaN</td>\n",
       "      <td>360.0</td>\n",
       "      <td>1.0</td>\n",
       "      <td>Urban</td>\n",
       "      <td>Y</td>\n",
       "    </tr>\n",
       "    <tr>\n",
       "      <th>1</th>\n",
       "      <td>LP001003</td>\n",
       "      <td>Male</td>\n",
       "      <td>Yes</td>\n",
       "      <td>1</td>\n",
       "      <td>Graduate</td>\n",
       "      <td>No</td>\n",
       "      <td>4583</td>\n",
       "      <td>1508.0</td>\n",
       "      <td>128.0</td>\n",
       "      <td>360.0</td>\n",
       "      <td>1.0</td>\n",
       "      <td>Rural</td>\n",
       "      <td>N</td>\n",
       "    </tr>\n",
       "    <tr>\n",
       "      <th>2</th>\n",
       "      <td>LP001005</td>\n",
       "      <td>Male</td>\n",
       "      <td>Yes</td>\n",
       "      <td>0</td>\n",
       "      <td>Graduate</td>\n",
       "      <td>Yes</td>\n",
       "      <td>3000</td>\n",
       "      <td>0.0</td>\n",
       "      <td>66.0</td>\n",
       "      <td>360.0</td>\n",
       "      <td>1.0</td>\n",
       "      <td>Urban</td>\n",
       "      <td>Y</td>\n",
       "    </tr>\n",
       "    <tr>\n",
       "      <th>3</th>\n",
       "      <td>LP001006</td>\n",
       "      <td>Male</td>\n",
       "      <td>Yes</td>\n",
       "      <td>0</td>\n",
       "      <td>Not Graduate</td>\n",
       "      <td>No</td>\n",
       "      <td>2583</td>\n",
       "      <td>2358.0</td>\n",
       "      <td>120.0</td>\n",
       "      <td>360.0</td>\n",
       "      <td>1.0</td>\n",
       "      <td>Urban</td>\n",
       "      <td>Y</td>\n",
       "    </tr>\n",
       "    <tr>\n",
       "      <th>4</th>\n",
       "      <td>LP001008</td>\n",
       "      <td>Male</td>\n",
       "      <td>No</td>\n",
       "      <td>0</td>\n",
       "      <td>Graduate</td>\n",
       "      <td>No</td>\n",
       "      <td>6000</td>\n",
       "      <td>0.0</td>\n",
       "      <td>141.0</td>\n",
       "      <td>360.0</td>\n",
       "      <td>1.0</td>\n",
       "      <td>Urban</td>\n",
       "      <td>Y</td>\n",
       "    </tr>\n",
       "  </tbody>\n",
       "</table>\n",
       "</div>"
      ],
      "text/plain": [
       "    Loan_ID Gender Married Dependents     Education Self_Employed  \\\n",
       "0  LP001002   Male      No          0      Graduate            No   \n",
       "1  LP001003   Male     Yes          1      Graduate            No   \n",
       "2  LP001005   Male     Yes          0      Graduate           Yes   \n",
       "3  LP001006   Male     Yes          0  Not Graduate            No   \n",
       "4  LP001008   Male      No          0      Graduate            No   \n",
       "\n",
       "   ApplicantIncome  CoapplicantIncome  LoanAmount  Loan_Amount_Term  \\\n",
       "0             5849                0.0         NaN             360.0   \n",
       "1             4583             1508.0       128.0             360.0   \n",
       "2             3000                0.0        66.0             360.0   \n",
       "3             2583             2358.0       120.0             360.0   \n",
       "4             6000                0.0       141.0             360.0   \n",
       "\n",
       "   Credit_History Property_Area Loan_Status  \n",
       "0             1.0         Urban           Y  \n",
       "1             1.0         Rural           N  \n",
       "2             1.0         Urban           Y  \n",
       "3             1.0         Urban           Y  \n",
       "4             1.0         Urban           Y  "
      ]
     },
     "execution_count": 6,
     "metadata": {},
     "output_type": "execute_result"
    }
   ],
   "source": [
    "train_loan_df.head()"
   ]
  },
  {
   "cell_type": "code",
   "execution_count": 3,
   "id": "fc86d51c-b2c3-4ee4-8745-4bd2161ebc29",
   "metadata": {},
   "outputs": [
    {
     "name": "stdout",
     "output_type": "stream",
     "text": [
      "Rows:614 \n",
      " columns: 13\n"
     ]
    }
   ],
   "source": [
    "print('Rows:{0} \\n columns: {1}'.format(train_loan_df.shape[0],train_loan_df.shape[1]))"
   ]
  },
  {
   "cell_type": "code",
   "execution_count": 8,
   "id": "3eac71f0-b3ab-455c-bc1f-66d9dc91a5df",
   "metadata": {},
   "outputs": [
    {
     "data": {
      "text/html": [
       "<div>\n",
       "<style scoped>\n",
       "    .dataframe tbody tr th:only-of-type {\n",
       "        vertical-align: middle;\n",
       "    }\n",
       "\n",
       "    .dataframe tbody tr th {\n",
       "        vertical-align: top;\n",
       "    }\n",
       "\n",
       "    .dataframe thead th {\n",
       "        text-align: right;\n",
       "    }\n",
       "</style>\n",
       "<table border=\"1\" class=\"dataframe\">\n",
       "  <thead>\n",
       "    <tr style=\"text-align: right;\">\n",
       "      <th></th>\n",
       "      <th>ApplicantIncome</th>\n",
       "      <th>CoapplicantIncome</th>\n",
       "      <th>LoanAmount</th>\n",
       "      <th>Loan_Amount_Term</th>\n",
       "      <th>Credit_History</th>\n",
       "    </tr>\n",
       "  </thead>\n",
       "  <tbody>\n",
       "    <tr>\n",
       "      <th>count</th>\n",
       "      <td>614.000000</td>\n",
       "      <td>614.000000</td>\n",
       "      <td>592.000000</td>\n",
       "      <td>600.00000</td>\n",
       "      <td>564.000000</td>\n",
       "    </tr>\n",
       "    <tr>\n",
       "      <th>mean</th>\n",
       "      <td>5403.459283</td>\n",
       "      <td>1621.245798</td>\n",
       "      <td>146.412162</td>\n",
       "      <td>342.00000</td>\n",
       "      <td>0.842199</td>\n",
       "    </tr>\n",
       "    <tr>\n",
       "      <th>std</th>\n",
       "      <td>6109.041673</td>\n",
       "      <td>2926.248369</td>\n",
       "      <td>85.587325</td>\n",
       "      <td>65.12041</td>\n",
       "      <td>0.364878</td>\n",
       "    </tr>\n",
       "    <tr>\n",
       "      <th>min</th>\n",
       "      <td>150.000000</td>\n",
       "      <td>0.000000</td>\n",
       "      <td>9.000000</td>\n",
       "      <td>12.00000</td>\n",
       "      <td>0.000000</td>\n",
       "    </tr>\n",
       "    <tr>\n",
       "      <th>25%</th>\n",
       "      <td>2877.500000</td>\n",
       "      <td>0.000000</td>\n",
       "      <td>100.000000</td>\n",
       "      <td>360.00000</td>\n",
       "      <td>1.000000</td>\n",
       "    </tr>\n",
       "    <tr>\n",
       "      <th>50%</th>\n",
       "      <td>3812.500000</td>\n",
       "      <td>1188.500000</td>\n",
       "      <td>128.000000</td>\n",
       "      <td>360.00000</td>\n",
       "      <td>1.000000</td>\n",
       "    </tr>\n",
       "    <tr>\n",
       "      <th>75%</th>\n",
       "      <td>5795.000000</td>\n",
       "      <td>2297.250000</td>\n",
       "      <td>168.000000</td>\n",
       "      <td>360.00000</td>\n",
       "      <td>1.000000</td>\n",
       "    </tr>\n",
       "    <tr>\n",
       "      <th>max</th>\n",
       "      <td>81000.000000</td>\n",
       "      <td>41667.000000</td>\n",
       "      <td>700.000000</td>\n",
       "      <td>480.00000</td>\n",
       "      <td>1.000000</td>\n",
       "    </tr>\n",
       "  </tbody>\n",
       "</table>\n",
       "</div>"
      ],
      "text/plain": [
       "       ApplicantIncome  CoapplicantIncome  LoanAmount  Loan_Amount_Term  \\\n",
       "count       614.000000         614.000000  592.000000         600.00000   \n",
       "mean       5403.459283        1621.245798  146.412162         342.00000   \n",
       "std        6109.041673        2926.248369   85.587325          65.12041   \n",
       "min         150.000000           0.000000    9.000000          12.00000   \n",
       "25%        2877.500000           0.000000  100.000000         360.00000   \n",
       "50%        3812.500000        1188.500000  128.000000         360.00000   \n",
       "75%        5795.000000        2297.250000  168.000000         360.00000   \n",
       "max       81000.000000       41667.000000  700.000000         480.00000   \n",
       "\n",
       "       Credit_History  \n",
       "count      564.000000  \n",
       "mean         0.842199  \n",
       "std          0.364878  \n",
       "min          0.000000  \n",
       "25%          1.000000  \n",
       "50%          1.000000  \n",
       "75%          1.000000  \n",
       "max          1.000000  "
      ]
     },
     "execution_count": 8,
     "metadata": {},
     "output_type": "execute_result"
    }
   ],
   "source": [
    "# Understanding the data \n",
    "train_loan_df.describe()"
   ]
  },
  {
   "cell_type": "code",
   "execution_count": 17,
   "id": "744084b6-6fd0-4de8-bc5e-c9ed1009fbbe",
   "metadata": {},
   "outputs": [
    {
     "name": "stdout",
     "output_type": "stream",
     "text": [
      "<class 'pandas.core.frame.DataFrame'>\n",
      "RangeIndex: 614 entries, 0 to 613\n",
      "Data columns (total 13 columns):\n",
      " #   Column             Non-Null Count  Dtype  \n",
      "---  ------             --------------  -----  \n",
      " 0   Loan_ID            614 non-null    object \n",
      " 1   Gender             601 non-null    object \n",
      " 2   Married            611 non-null    object \n",
      " 3   Dependents         599 non-null    object \n",
      " 4   Education          614 non-null    object \n",
      " 5   Self_Employed      582 non-null    object \n",
      " 6   ApplicantIncome    614 non-null    int64  \n",
      " 7   CoapplicantIncome  614 non-null    float64\n",
      " 8   LoanAmount         592 non-null    float64\n",
      " 9   Loan_Amount_Term   600 non-null    float64\n",
      " 10  Credit_History     564 non-null    float64\n",
      " 11  Property_Area      614 non-null    object \n",
      " 12  Loan_Status        614 non-null    object \n",
      "dtypes: float64(4), int64(1), object(8)\n",
      "memory usage: 62.5+ KB\n"
     ]
    }
   ],
   "source": [
    "train_loan_df.info()"
   ]
  },
  {
   "cell_type": "code",
   "execution_count": 3,
   "id": "c66f1786-f350-4615-9316-16f9a3aedae1",
   "metadata": {},
   "outputs": [
    {
     "data": {
      "text/plain": [
       "1.0    475\n",
       "0.0     89\n",
       "Name: Credit_History, dtype: int64"
      ]
     },
     "execution_count": 3,
     "metadata": {},
     "output_type": "execute_result"
    }
   ],
   "source": [
    "train_loan_df.Credit_History.value_counts()"
   ]
  },
  {
   "cell_type": "code",
   "execution_count": 4,
   "id": "51b4307b-6461-4efb-a7c4-431b587098c7",
   "metadata": {},
   "outputs": [],
   "source": [
    "# Dropping loan Id which has no any significance in the anlysis\n",
    "df = train_loan_df.drop('Loan_ID',axis = 1)\n",
    "test_df =  test_loan_df.drop(\"Loan_ID\",axis = 1)"
   ]
  },
  {
   "cell_type": "code",
   "execution_count": 10,
   "id": "1d84ead9-9afd-481f-afcb-bcc683c913f7",
   "metadata": {},
   "outputs": [
    {
     "data": {
      "text/plain": [
       "count     614\n",
       "unique      2\n",
       "top         Y\n",
       "freq      422\n",
       "Name: Loan_Status, dtype: object"
      ]
     },
     "execution_count": 10,
     "metadata": {},
     "output_type": "execute_result"
    }
   ],
   "source": [
    "df.Loan_Status.describe()"
   ]
  },
  {
   "cell_type": "markdown",
   "id": "71c73617-ba66-4761-aadb-b6ec1fdc78c9",
   "metadata": {},
   "source": [
    "### Mapping 'Y' and 'N' as 0"
   ]
  },
  {
   "cell_type": "code",
   "execution_count": 5,
   "id": "b26db141-92b2-4a67-8078-0200d6074af6",
   "metadata": {},
   "outputs": [],
   "source": [
    "df.Loan_Status = df.Loan_Status.map({'Y':1, 'N':0})"
   ]
  },
  {
   "cell_type": "code",
   "execution_count": 5,
   "id": "1db8f22f-e743-42ba-87d9-9f3eb969c1f2",
   "metadata": {},
   "outputs": [
    {
     "data": {
      "text/plain": [
       "count    614.000000\n",
       "mean       0.687296\n",
       "std        0.463973\n",
       "min        0.000000\n",
       "25%        0.000000\n",
       "50%        1.000000\n",
       "75%        1.000000\n",
       "max        1.000000\n",
       "Name: Loan_Status, dtype: float64"
      ]
     },
     "execution_count": 5,
     "metadata": {},
     "output_type": "execute_result"
    }
   ],
   "source": [
    "df.Loan_Status.describe()"
   ]
  },
  {
   "cell_type": "code",
   "execution_count": 7,
   "id": "1489024d-0ea6-4cfc-82f7-02e575a2e968",
   "metadata": {},
   "outputs": [
    {
     "data": {
      "text/plain": [
       "1.0    475\n",
       "0.0     89\n",
       "Name: Credit_History, dtype: int64"
      ]
     },
     "execution_count": 7,
     "metadata": {},
     "output_type": "execute_result"
    }
   ],
   "source": [
    "# Changing credit History's data type as object as there are only two values '0' and '1'\n",
    "df['Credit_History'].value_counts()"
   ]
  },
  {
   "cell_type": "code",
   "execution_count": 7,
   "id": "787fb930-eea9-406d-99ed-ece309979cd0",
   "metadata": {},
   "outputs": [],
   "source": [
    "df['Credit_History'].loc[df.Credit_History == 1.0]='one'\n",
    "df['Credit_History'].loc[df.Credit_History == 0.0]='zero'\n",
    "\n",
    "test_df['Credit_History'].loc[df.Credit_History == 1.0]='one'\n",
    "test_df['Credit_History'].loc[df.Credit_History == 0.0]= 'zero'"
   ]
  },
  {
   "cell_type": "code",
   "execution_count": 9,
   "id": "302d3091-eee8-4a6a-9655-fd6cac3222ba",
   "metadata": {},
   "outputs": [
    {
     "data": {
      "text/plain": [
       "count     564\n",
       "unique      2\n",
       "top       one\n",
       "freq      475\n",
       "Name: Credit_History, dtype: object"
      ]
     },
     "execution_count": 9,
     "metadata": {},
     "output_type": "execute_result"
    }
   ],
   "source": [
    "df['Credit_History'].describe()"
   ]
  },
  {
   "cell_type": "markdown",
   "id": "477aabde-439c-4149-87cc-23f2e1251641",
   "metadata": {},
   "source": [
    "## Univariate Analysis"
   ]
  },
  {
   "cell_type": "code",
   "execution_count": 8,
   "id": "5e60ccb7-0b7b-49d8-bc73-0e735881f1e7",
   "metadata": {},
   "outputs": [],
   "source": [
    "cat_cols = df.select_dtypes('object').columns \n",
    "num_cols = df.select_dtypes(['int64', 'float64']).columns"
   ]
  },
  {
   "cell_type": "code",
   "execution_count": 11,
   "id": "7bff5299-3596-4e3f-ac23-19f61ba3165f",
   "metadata": {},
   "outputs": [
    {
     "name": "stdout",
     "output_type": "stream",
     "text": [
      "Index(['Gender', 'Married', 'Dependents', 'Education', 'Self_Employed',\n",
      "       'Credit_History', 'Property_Area'],\n",
      "      dtype='object')\n",
      "Index(['ApplicantIncome', 'CoapplicantIncome', 'LoanAmount',\n",
      "       'Loan_Amount_Term', 'Loan_Status'],\n",
      "      dtype='object')\n"
     ]
    }
   ],
   "source": [
    "print(cat_cols)\n",
    "print(num_cols)"
   ]
  },
  {
   "cell_type": "markdown",
   "id": "dd34b37c-43e4-40b1-aa1b-0186911e8244",
   "metadata": {},
   "source": [
    "#### Count plots for  categorical columns and histograms for numerical colulmns"
   ]
  },
  {
   "cell_type": "code",
   "execution_count": 36,
   "id": "cc630269-7257-4137-bac1-b43b0f8bdaee",
   "metadata": {},
   "outputs": [
    {
     "data": {
      "image/png": "[encoded data removed]",
      "text/plain": [
       "<Figure size 432x288 with 1 Axes>"
      ]
     },
     "metadata": {},
     "output_type": "display_data"
    },
    {
     "name": "stdout",
     "output_type": "stream",
     "text": [
      "\n",
      "\n",
      "\n"
     ]
    },
    {
     "data": {
      "image/png": "[encoded data removed]",
      "text/plain": [
       "<Figure size 432x288 with 1 Axes>"
      ]
     },
     "metadata": {},
     "output_type": "display_data"
    },
    {
     "name": "stdout",
     "output_type": "stream",
     "text": [
      "\n",
      "\n",
      "\n"
     ]
    },
    {
     "data": {
      "image/png": "[encoded data removed]",
      "text/plain": [
       "<Figure size 432x288 with 1 Axes>"
      ]
     },
     "metadata": {},
     "output_type": "display_data"
    },
    {
     "name": "stdout",
     "output_type": "stream",
     "text": [
      "\n",
      "\n",
      "\n"
     ]
    },
    {
     "data": {
      "image/png": "[encoded data removed]",
      "text/plain": [
       "<Figure size 432x288 with 1 Axes>"
      ]
     },
     "metadata": {},
     "output_type": "display_data"
    },
    {
     "name": "stdout",
     "output_type": "stream",
     "text": [
      "\n",
      "\n",
      "\n"
     ]
    },
    {
     "data": {
      "image/png": "[encoded data removed]",
      "text/plain": [
       "<Figure size 432x288 with 1 Axes>"
      ]
     },
     "metadata": {},
     "output_type": "display_data"
    },
    {
     "name": "stdout",
     "output_type": "stream",
     "text": [
      "\n",
      "\n",
      "\n"
     ]
    },
    {
     "data": {
      "image/png": "[encoded data removed]",
      "text/plain": [
       "<Figure size 432x288 with 1 Axes>"
      ]
     },
     "metadata": {},
     "output_type": "display_data"
    },
    {
     "name": "stdout",
     "output_type": "stream",
     "text": [
      "\n",
      "\n",
      "\n"
     ]
    },
    {
     "data": {
      "image/png": "[encoded data removed]",
      "text/plain": [
       "<Figure size 432x288 with 1 Axes>"
      ]
     },
     "metadata": {},
     "output_type": "display_data"
    },
    {
     "name": "stdout",
     "output_type": "stream",
     "text": [
      "\n",
      "\n",
      "\n"
     ]
    }
   ],
   "source": [
    "for col in cat_cols: \n",
    "    sns.countplot(df[col])\n",
    "    plt.title(col)\n",
    "    plt.show()\n",
    "    print('\\n\\n')"
   ]
  },
  {
   "cell_type": "code",
   "execution_count": 37,
   "id": "33749885-58ee-432c-9100-4ba845899a95",
   "metadata": {},
   "outputs": [
    {
     "data": {
      "image/png": "[encoded data removed]",
      "text/plain": [
       "<Figure size 432x288 with 1 Axes>"
      ]
     },
     "metadata": {},
     "output_type": "display_data"
    },
    {
     "name": "stdout",
     "output_type": "stream",
     "text": [
      "\n",
      "\n",
      "\n"
     ]
    },
    {
     "data": {
      "image/png": "[encoded data removed]",
      "text/plain": [
       "<Figure size 432x288 with 1 Axes>"
      ]
     },
     "metadata": {},
     "output_type": "display_data"
    },
    {
     "name": "stdout",
     "output_type": "stream",
     "text": [
      "\n",
      "\n",
      "\n"
     ]
    },
    {
     "data": {
      "image/png": "[encoded data removed]",
      "text/plain": [
       "<Figure size 432x288 with 1 Axes>"
      ]
     },
     "metadata": {},
     "output_type": "display_data"
    },
    {
     "name": "stdout",
     "output_type": "stream",
     "text": [
      "\n",
      "\n",
      "\n"
     ]
    },
    {
     "data": {
      "image/png": "[encoded data removed]",
      "text/plain": [
       "<Figure size 432x288 with 1 Axes>"
      ]
     },
     "metadata": {},
     "output_type": "display_data"
    },
    {
     "name": "stdout",
     "output_type": "stream",
     "text": [
      "\n",
      "\n",
      "\n"
     ]
    },
    {
     "data": {
      "image/png": "[encoded data removed]",
      "text/plain": [
       "<Figure size 432x288 with 1 Axes>"
      ]
     },
     "metadata": {},
     "output_type": "display_data"
    },
    {
     "name": "stdout",
     "output_type": "stream",
     "text": [
      "\n",
      "\n",
      "\n"
     ]
    }
   ],
   "source": [
    " for col in num_cols:\n",
    "        sns.distplot(df[col],bins =20)\n",
    "        plt.title(col)\n",
    "        plt.show()\n",
    "        print('\\n\\n')"
   ]
  },
  {
   "cell_type": "markdown",
   "id": "319725b5-4019-40ec-9919-36f5c1592ece",
   "metadata": {},
   "source": [
    "## Bivariate Analysis"
   ]
  },
  {
   "cell_type": "code",
   "execution_count": 9,
   "id": "0fdcfa34-5b91-463c-8bba-983b752f7fec",
   "metadata": {},
   "outputs": [
    {
     "data": {
      "image/png": "[encoded data removed]",
      "text/plain": [
       "<Figure size 432x288 with 1 Axes>"
      ]
     },
     "metadata": {},
     "output_type": "display_data"
    },
    {
     "name": "stdout",
     "output_type": "stream",
     "text": [
      "\n",
      "\n",
      "\n"
     ]
    },
    {
     "data": {
      "image/png": "[encoded data removed]",
      "text/plain": [
       "<Figure size 432x288 with 1 Axes>"
      ]
     },
     "metadata": {},
     "output_type": "display_data"
    },
    {
     "name": "stdout",
     "output_type": "stream",
     "text": [
      "\n",
      "\n",
      "\n"
     ]
    },
    {
     "data": {
      "image/png": "[encoded data removed]",
      "text/plain": [
       "<Figure size 432x288 with 1 Axes>"
      ]
     },
     "metadata": {},
     "output_type": "display_data"
    },
    {
     "name": "stdout",
     "output_type": "stream",
     "text": [
      "\n",
      "\n",
      "\n"
     ]
    },
    {
     "data": {
      "image/png": "[encoded data removed]",
      "text/plain": [
       "<Figure size 432x288 with 1 Axes>"
      ]
     },
     "metadata": {},
     "output_type": "display_data"
    },
    {
     "name": "stdout",
     "output_type": "stream",
     "text": [
      "\n",
      "\n",
      "\n"
     ]
    },
    {
     "data": {
      "image/png": "[encoded data removed]",
      "text/plain": [
       "<Figure size 432x288 with 1 Axes>"
      ]
     },
     "metadata": {},
     "output_type": "display_data"
    },
    {
     "name": "stdout",
     "output_type": "stream",
     "text": [
      "\n",
      "\n",
      "\n"
     ]
    },
    {
     "data": {
      "image/png": "[encoded data removed]",
      "text/plain": [
       "<Figure size 432x288 with 1 Axes>"
      ]
     },
     "metadata": {},
     "output_type": "display_data"
    },
    {
     "name": "stdout",
     "output_type": "stream",
     "text": [
      "\n",
      "\n",
      "\n"
     ]
    },
    {
     "data": {
      "image/png": "[encoded data removed]",
      "text/plain": [
       "<Figure size 432x288 with 1 Axes>"
      ]
     },
     "metadata": {},
     "output_type": "display_data"
    },
    {
     "name": "stdout",
     "output_type": "stream",
     "text": [
      "\n",
      "\n",
      "\n"
     ]
    }
   ],
   "source": [
    "# Plotting BAR PLOTS for categorical data.\n",
    "for col in cat_cols:\n",
    "    sns.barplot(data = df.groupby(col)['Loan_Status'].mean().reset_index(), x = col, y = 'Loan_Status')\n",
    "    plt.title('Eligibility percentage based on '+ col.upper())\n",
    "    plt.show()\n",
    "    print('\\n\\n')"
   ]
  },
  {
   "cell_type": "markdown",
   "id": "5241f8ce-652a-4a06-b690-6305ae963bf6",
   "metadata": {},
   "source": [
    "## From the above graphing we can conclude that;\n",
    "* Male as a slightly higher chance to be eligable for a loan\n",
    "* Married people have more chances for being elegible for a loan.\n",
    "* People with two or more dependents have more chances than people with more than 3 dependents.\n",
    "* Graduate individual has more chances of getting approval.\n",
    "* Self employes or not , both have similar chance of getting approval.\n",
    "* People living in semi urban area are more likely to get approval.\n",
    "* People with a credit history are more likely to get approval."
   ]
  },
  {
   "cell_type": "code",
   "execution_count": 10,
   "id": "d7af7d3a-be48-45c2-93df-4e3f5a8a0105",
   "metadata": {},
   "outputs": [
    {
     "name": "stdout",
     "output_type": "stream",
     "text": [
      "   Loan_Status  ApplicantIncome\n",
      "0            0           3833.5\n",
      "1            1           3812.5\n",
      "\n",
      "\n",
      "\n",
      "   Loan_Status  CoapplicantIncome\n",
      "0            0              268.0\n",
      "1            1             1239.5\n",
      "\n",
      "\n",
      "\n",
      "   Loan_Status  LoanAmount\n",
      "0            0       129.0\n",
      "1            1       126.0\n",
      "\n",
      "\n",
      "\n",
      "   Loan_Status  Loan_Amount_Term\n",
      "0            0             360.0\n",
      "1            1             360.0\n",
      "\n",
      "\n",
      "\n"
     ]
    }
   ],
   "source": [
    "for i in num_cols:\n",
    "    if i !='Loan_Status':\n",
    "        print(df.groupby('Loan_Status')[i].median().reset_index())\n",
    "        print('\\n\\n')"
   ]
  },
  {
   "cell_type": "markdown",
   "id": "dc2c9a57-0b17-47e8-a1a2-07facbb502de",
   "metadata": {},
   "source": [
    "**we can conclude that**\n",
    "* The median Applicant income of eligible candidate is 3812.5\n",
    "* The median coapplicant income of eligible candidates is 1239.5\n",
    "* The median laon amount for eligible candidates is 126.0\n",
    "* The median loan amount term of eligible candidates is 360.0"
   ]
  },
  {
   "cell_type": "markdown",
   "id": "a4c12fe6-3fe9-4d32-9e7d-9eff87a56b80",
   "metadata": {},
   "source": [
    "### Dealing with missing values"
   ]
  },
  {
   "cell_type": "code",
   "execution_count": 10,
   "id": "6402b715-a7d5-4875-9ec4-ff893f819364",
   "metadata": {},
   "outputs": [
    {
     "data": {
      "text/plain": [
       "Gender               13\n",
       "Married               3\n",
       "Dependents           15\n",
       "Education             0\n",
       "Self_Employed        32\n",
       "ApplicantIncome       0\n",
       "CoapplicantIncome     0\n",
       "LoanAmount           22\n",
       "Loan_Amount_Term     14\n",
       "Credit_History       50\n",
       "Property_Area         0\n",
       "Loan_Status           0\n",
       "dtype: int64"
      ]
     },
     "execution_count": 10,
     "metadata": {},
     "output_type": "execute_result"
    }
   ],
   "source": [
    "df.isna().sum()"
   ]
  },
  {
   "cell_type": "markdown",
   "id": "9587e289-e88b-482b-8c78-c36846bb3186",
   "metadata": {},
   "source": [
    "**Filling numerical data with median and categorical data with mode**"
   ]
  },
  {
   "cell_type": "code",
   "execution_count": 11,
   "id": "4768272c-6085-4c8f-9230-7a63f7237ac9",
   "metadata": {},
   "outputs": [
    {
     "data": {
      "text/plain": [
       "Gender               13\n",
       "Married               3\n",
       "Dependents           15\n",
       "Education             0\n",
       "Self_Employed        32\n",
       "ApplicantIncome       0\n",
       "CoapplicantIncome     0\n",
       "LoanAmount            0\n",
       "Loan_Amount_Term      0\n",
       "Credit_History       50\n",
       "Property_Area         0\n",
       "Loan_Status           0\n",
       "dtype: int64"
      ]
     },
     "execution_count": 11,
     "metadata": {},
     "output_type": "execute_result"
    }
   ],
   "source": [
    "for col in num_cols:\n",
    "    df[col].fillna(df[col].median(),inplace = True)\n",
    "\n",
    "df.isna().sum()"
   ]
  },
  {
   "cell_type": "code",
   "execution_count": 12,
   "id": "7e95f775-4e77-4346-9c6b-2cfad2b6d0c9",
   "metadata": {},
   "outputs": [
    {
     "name": "stdout",
     "output_type": "stream",
     "text": [
      "Gender 0    Male\n",
      "dtype: object\n",
      "Married 0    Yes\n",
      "dtype: object\n",
      "Dependents 0    0\n",
      "dtype: object\n",
      "Education 0    Graduate\n",
      "dtype: object\n",
      "Self_Employed 0    No\n",
      "dtype: object\n",
      "Credit_History 0    one\n",
      "dtype: object\n",
      "Property_Area 0    Semiurban\n",
      "dtype: object\n"
     ]
    }
   ],
   "source": [
    "for col in cat_cols:\n",
    "    print(col,df[col].mode())\n",
    "    \n"
   ]
  },
  {
   "cell_type": "code",
   "execution_count": 9,
   "id": "60725daa-9536-4539-8609-34006bfadfc4",
   "metadata": {},
   "outputs": [
    {
     "data": {
      "text/plain": [
       "Gender               11\n",
       "Married               0\n",
       "Dependents           10\n",
       "Education             0\n",
       "Self_Employed        23\n",
       "ApplicantIncome       0\n",
       "CoapplicantIncome     0\n",
       "LoanAmount            5\n",
       "Loan_Amount_Term      6\n",
       "Credit_History       29\n",
       "Property_Area         0\n",
       "dtype: int64"
      ]
     },
     "execution_count": 9,
     "metadata": {},
     "output_type": "execute_result"
    }
   ],
   "source": [
    "test_df.isna().sum()"
   ]
  },
  {
   "cell_type": "code",
   "execution_count": 13,
   "id": "f2bc2e82-e4f9-41b6-8f84-851d6790ef40",
   "metadata": {},
   "outputs": [],
   "source": [
    "df.Gender.fillna('Male', inplace = True)\n",
    "df.Married.fillna('Yes',inplace = True)\n",
    "df.Dependents.fillna('0', inplace = True)\n",
    "df.Self_Employed.fillna('No', inplace = True)\n",
    "\n",
    "\n",
    "test_df.Gender.fillna('Male',inplace = True)\n",
    "test_df.Dependents.fillna('0',inplace = True)\n",
    "test_df.Self_Employed.fillna('No', inplace = True)\n",
    "test_df.fillna(test_df.LoanAmount.median(), inplace =  True)\n",
    "test_df.fillna(test_df.Loan_Amount_Term.median(),inplace = True)"
   ]
  },
  {
   "cell_type": "markdown",
   "id": "817a6634-739c-4f83-a861-e0b991db2c6b",
   "metadata": {},
   "source": [
    "### Filling credit history with 'na'"
   ]
  },
  {
   "cell_type": "code",
   "execution_count": 14,
   "id": "be4f0434-8394-4e28-84c0-fd84d0812c0f",
   "metadata": {},
   "outputs": [],
   "source": [
    "df.Credit_History.fillna('na', inplace = True)\n",
    "\n",
    "test_df.Credit_History.fillna('na', inplace = True)"
   ]
  },
  {
   "cell_type": "code",
   "execution_count": 18,
   "id": "2b11d3b7-3468-4722-ae93-171c61b32fe1",
   "metadata": {},
   "outputs": [
    {
     "data": {
      "text/plain": [
       "(614, 12)"
      ]
     },
     "execution_count": 18,
     "metadata": {},
     "output_type": "execute_result"
    }
   ],
   "source": [
    "df.shape"
   ]
  },
  {
   "cell_type": "code",
   "execution_count": 12,
   "id": "6839159c-0ac9-432e-8991-0704451a30ee",
   "metadata": {},
   "outputs": [
    {
     "data": {
      "text/plain": [
       "Gender               0\n",
       "Married              0\n",
       "Dependents           0\n",
       "Education            0\n",
       "Self_Employed        0\n",
       "ApplicantIncome      0\n",
       "CoapplicantIncome    0\n",
       "LoanAmount           0\n",
       "Loan_Amount_Term     0\n",
       "Credit_History       0\n",
       "Property_Area        0\n",
       "Loan_Status          0\n",
       "dtype: int64"
      ]
     },
     "execution_count": 12,
     "metadata": {},
     "output_type": "execute_result"
    }
   ],
   "source": [
    "df.isna().sum()"
   ]
  },
  {
   "cell_type": "markdown",
   "id": "5aeb23a9-1833-4cd5-96d5-1743aaac589a",
   "metadata": {},
   "source": [
    "### Balancing the dataset"
   ]
  },
  {
   "cell_type": "markdown",
   "id": "14b8b28b-b93f-42d5-a35c-4fd56a731a64",
   "metadata": {},
   "source": [
    "Imbalanced data usually reflects unequal distribution of classes within a dataset.\n",
    "Some of the techniques of solving  this problem are;\n",
    "* Resampling ( undersampling and undersampling).\n",
    "** undersampling is the process of randomly deleting some of the observations from the majority class."
   ]
  },
  {
   "cell_type": "code",
   "execution_count": 15,
   "id": "727251df-b9ae-43db-b02d-f948b2bf94ed",
   "metadata": {},
   "outputs": [],
   "source": [
    "loan_1 = df.loc[df.Loan_Status == 1].sample(192, random_state = 0)\n",
    "loan_0 = df.loc[df.Loan_Status == 0]\n",
    "\n",
    "data = pd.concat([loan_1,loan_0], axis = 0)"
   ]
  },
  {
   "cell_type": "code",
   "execution_count": 16,
   "id": "4e602b46-9e46-40fe-8dac-1b3dc3abb788",
   "metadata": {},
   "outputs": [],
   "source": [
    "balanced_data = data.reset_index(drop = True)"
   ]
  },
  {
   "cell_type": "code",
   "execution_count": 17,
   "id": "959e6b70-9f8d-408f-a414-039defbb487c",
   "metadata": {},
   "outputs": [],
   "source": [
    "X = balanced_data.drop('Loan_Status', axis = 1)\n",
    "y = balanced_data['Loan_Status']\n",
    "\n",
    "x_test = test_df"
   ]
  },
  {
   "cell_type": "markdown",
   "id": "55847f92-80b8-4f7b-8477-6a1c4a65406c",
   "metadata": {},
   "source": [
    "### scaling data"
   ]
  },
  {
   "cell_type": "markdown",
   "id": "50163ee9-aba9-4ef4-97f9-be3588c084f1",
   "metadata": {},
   "source": [
    "If data in any  condition has points so far from each other scaling is a technique to make them closer.Scaling is used to make data points generalized so that the distance between them will be lower.\n",
    "\n",
    "When your data has different values, and even different measurement units, it can be difficult to compare them. What is kilograms compared to meters? Or altitude compared to time?\n",
    "\n",
    "The answer to this problem is scaling. A common method we will use here is *standardization*"
   ]
  },
  {
   "cell_type": "code",
   "execution_count": 18,
   "id": "eb38c6f4-ab8a-4d37-a5ca-a5830db2f30f",
   "metadata": {},
   "outputs": [],
   "source": [
    "num_cols = X.select_dtypes(['int64','float64']).columns\n",
    "scaler = StandardScaler()\n",
    "scaled_data =  scaler.fit_transform(X[num_cols])\n",
    "\n",
    "scaled_test = scaler.fit_transform(x_test[num_cols])"
   ]
  },
  {
   "cell_type": "markdown",
   "id": "5cb083b6-b4c9-46e6-8a32-b2c949689aff",
   "metadata": {},
   "source": [
    "#### Encoding categorical columns"
   ]
  },
  {
   "cell_type": "code",
   "execution_count": 19,
   "id": "725a0e80-933c-41c6-84c1-67a4aa8f7161",
   "metadata": {},
   "outputs": [],
   "source": [
    "cat_cols = X.select_dtypes('object').columns\n",
    "encoder = OneHotEncoder(handle_unknown = 'ignore', sparse =  False)\n",
    "encoded_data  = encoder.fit_transform(X[cat_cols])\n",
    "\n",
    "encoded_test = encoder.fit_transform(test_df[cat_cols])"
   ]
  },
  {
   "cell_type": "code",
   "execution_count": 20,
   "id": "2a095124-a21e-48e9-87b3-97385017ab5d",
   "metadata": {},
   "outputs": [],
   "source": [
    "scaled_X=  pd.DataFrame(scaled_data, columns = num_cols)\n",
    "encoded_X = pd.DataFrame(encoded_data, columns = encoder.get_feature_names())\n",
    "X_preprocessed = pd.concat([scaled_X],axis = 1)\n",
    "\n",
    "scaled_X_test = pd.DataFrame(scaled_test, columns = num_cols)\n",
    "encoded_X_test = pd.DataFrame(encoded_test, columns = encoder.get_feature_names())\n",
    "X_test_preprocessed = pd.concat([scaled_X_test, encoded_X_test], axis = 1)\n",
    "\n"
   ]
  },
  {
   "cell_type": "code",
   "execution_count": 21,
   "id": "6ec5b5a3-b8f3-4264-8a3c-4730c9fc6c4a",
   "metadata": {},
   "outputs": [
    {
     "data": {
      "text/html": [
       "<div>\n",
       "<style scoped>\n",
       "    .dataframe tbody tr th:only-of-type {\n",
       "        vertical-align: middle;\n",
       "    }\n",
       "\n",
       "    .dataframe tbody tr th {\n",
       "        vertical-align: top;\n",
       "    }\n",
       "\n",
       "    .dataframe thead th {\n",
       "        text-align: right;\n",
       "    }\n",
       "</style>\n",
       "<table border=\"1\" class=\"dataframe\">\n",
       "  <thead>\n",
       "    <tr style=\"text-align: right;\">\n",
       "      <th></th>\n",
       "      <th>ApplicantIncome</th>\n",
       "      <th>CoapplicantIncome</th>\n",
       "      <th>LoanAmount</th>\n",
       "      <th>Loan_Amount_Term</th>\n",
       "    </tr>\n",
       "  </thead>\n",
       "  <tbody>\n",
       "    <tr>\n",
       "      <th>0</th>\n",
       "      <td>-0.356616</td>\n",
       "      <td>-0.071917</td>\n",
       "      <td>-0.598759</td>\n",
       "      <td>0.268285</td>\n",
       "    </tr>\n",
       "    <tr>\n",
       "      <th>1</th>\n",
       "      <td>-0.422439</td>\n",
       "      <td>-0.001589</td>\n",
       "      <td>-0.459770</td>\n",
       "      <td>0.268285</td>\n",
       "    </tr>\n",
       "    <tr>\n",
       "      <th>2</th>\n",
       "      <td>-0.260236</td>\n",
       "      <td>-0.071917</td>\n",
       "      <td>-0.031218</td>\n",
       "      <td>0.268285</td>\n",
       "    </tr>\n",
       "    <tr>\n",
       "      <th>3</th>\n",
       "      <td>-0.437641</td>\n",
       "      <td>0.844678</td>\n",
       "      <td>0.339420</td>\n",
       "      <td>0.268285</td>\n",
       "    </tr>\n",
       "    <tr>\n",
       "      <th>4</th>\n",
       "      <td>0.276842</td>\n",
       "      <td>-0.497677</td>\n",
       "      <td>-0.309197</td>\n",
       "      <td>0.268285</td>\n",
       "    </tr>\n",
       "    <tr>\n",
       "      <th>...</th>\n",
       "      <td>...</td>\n",
       "      <td>...</td>\n",
       "      <td>...</td>\n",
       "      <td>...</td>\n",
       "    </tr>\n",
       "    <tr>\n",
       "      <th>379</th>\n",
       "      <td>0.152644</td>\n",
       "      <td>-0.205861</td>\n",
       "      <td>0.466828</td>\n",
       "      <td>0.268285</td>\n",
       "    </tr>\n",
       "    <tr>\n",
       "      <th>380</th>\n",
       "      <td>-0.363608</td>\n",
       "      <td>-0.497677</td>\n",
       "      <td>-0.679836</td>\n",
       "      <td>0.268285</td>\n",
       "    </tr>\n",
       "    <tr>\n",
       "      <th>381</th>\n",
       "      <td>-0.754446</td>\n",
       "      <td>11.661432</td>\n",
       "      <td>2.354769</td>\n",
       "      <td>-2.447570</td>\n",
       "    </tr>\n",
       "    <tr>\n",
       "      <th>382</th>\n",
       "      <td>-0.452843</td>\n",
       "      <td>0.611225</td>\n",
       "      <td>-0.216538</td>\n",
       "      <td>-2.447570</td>\n",
       "    </tr>\n",
       "    <tr>\n",
       "      <th>383</th>\n",
       "      <td>-0.120988</td>\n",
       "      <td>-0.497677</td>\n",
       "      <td>-0.158625</td>\n",
       "      <td>0.268285</td>\n",
       "    </tr>\n",
       "  </tbody>\n",
       "</table>\n",
       "<p>384 rows × 4 columns</p>\n",
       "</div>"
      ],
      "text/plain": [
       "     ApplicantIncome  CoapplicantIncome  LoanAmount  Loan_Amount_Term\n",
       "0          -0.356616          -0.071917   -0.598759          0.268285\n",
       "1          -0.422439          -0.001589   -0.459770          0.268285\n",
       "2          -0.260236          -0.071917   -0.031218          0.268285\n",
       "3          -0.437641           0.844678    0.339420          0.268285\n",
       "4           0.276842          -0.497677   -0.309197          0.268285\n",
       "..               ...                ...         ...               ...\n",
       "379         0.152644          -0.205861    0.466828          0.268285\n",
       "380        -0.363608          -0.497677   -0.679836          0.268285\n",
       "381        -0.754446          11.661432    2.354769         -2.447570\n",
       "382        -0.452843           0.611225   -0.216538         -2.447570\n",
       "383        -0.120988          -0.497677   -0.158625          0.268285\n",
       "\n",
       "[384 rows x 4 columns]"
      ]
     },
     "execution_count": 21,
     "metadata": {},
     "output_type": "execute_result"
    }
   ],
   "source": [
    "X_preprocessed"
   ]
  },
  {
   "cell_type": "markdown",
   "id": "aa2bf374-4d7c-4519-a665-c55c2b18126b",
   "metadata": {},
   "source": [
    "#### Splitting the data into training and validation data"
   ]
  },
  {
   "cell_type": "code",
   "execution_count": 22,
   "id": "b35df9d6-7b2f-441d-8331-3fb2470cbbc8",
   "metadata": {},
   "outputs": [],
   "source": [
    "x_train, x_valid, y_train, y_valid = tts(X_preprocessed,y ,test_size = 0.1, random_state = 0 , stratify = y)"
   ]
  },
  {
   "cell_type": "markdown",
   "id": "a7dd9a87-23ac-42de-a085-635206e8d168",
   "metadata": {},
   "source": [
    " tts is train test split\n",
    "Some classification problems do not have a balanced number of examples for each class label. As such, it is desirable to split the dataset into train and test sets in a way that preserves the same proportions of examples in each class as observed in the original dataset.\n",
    "\n",
    "This is called a stratified train-test split.\n",
    "\n",
    "We can achieve this by setting the “stratify” argument to the y component of the original dataset. This will be used by the train_test_split() function to ensure that both the train and test sets have the proportion of examples in each class that is present in the provided “y” array."
   ]
  },
  {
   "cell_type": "markdown",
   "id": "31aae141-baae-40d4-9782-51abeeeaf0bf",
   "metadata": {},
   "source": [
    "## Model Selection"
   ]
  },
  {
   "cell_type": "code",
   "execution_count": 23,
   "id": "57a3cb06-ff19-41dc-9a74-1fd16d490cff",
   "metadata": {},
   "outputs": [
    {
     "data": {
      "text/plain": [
       "SVC(kernel='linear', random_state=0)"
      ]
     },
     "execution_count": 23,
     "metadata": {},
     "output_type": "execute_result"
    }
   ],
   "source": [
    "from sklearn.linear_model import LogisticRegression \n",
    "from sklearn.ensemble import RandomForestClassifier\n",
    "from sklearn import svm \n",
    "\n",
    "model_rf = RandomForestClassifier(random_state = 0)\n",
    "model_rf.fit(x_train, y_train)\n",
    "\n",
    "model_lr = LogisticRegression(max_iter = 250)\n",
    "model_lr.fit(x_train, y_train)\n",
    "\n",
    "model_svm = svm.SVC(kernel = 'linear', random_state =  0)\n",
    "model_svm.fit(x_train, y_train)"
   ]
  },
  {
   "cell_type": "markdown",
   "id": "96b7a4e8-16d0-488c-812a-f6aa9c1c40e5",
   "metadata": {},
   "source": [
    "## Model Evaluation"
   ]
  },
  {
   "cell_type": "code",
   "execution_count": 24,
   "id": "94ec369b-0698-4d2f-bb46-0ebe7540a5c5",
   "metadata": {},
   "outputs": [],
   "source": [
    "preds_lr = model_lr.predict(x_valid)\n",
    "preds_rf = model_rf.predict(x_valid)\n",
    "preds_sv = model_svm.predict(x_valid)\n"
   ]
  },
  {
   "cell_type": "code",
   "execution_count": 35,
   "id": "c353232c-8760-4bea-9c52-69f71a29d701",
   "metadata": {},
   "outputs": [
    {
     "name": "stdout",
     "output_type": "stream",
     "text": [
      "Accuracy score for Logistic regression : 0.5500000000000002\n",
      "F1 score f or Logistic regression\n"
     ]
    }
   ],
   "source": [
    "print('Accuracy score for Logistic regression : {1}\\nF1 score for Logistic regression'.format (accuracy_score(preds_lr, y_valid), f1_score(preds_lr, y_valid)))"
   ]
  },
  {
   "cell_type": "code",
   "execution_count": 38,
   "id": "45366aab-7ff6-40e5-a7b5-86506c10f3bf",
   "metadata": {},
   "outputs": [
    {
     "name": "stdout",
     "output_type": "stream",
     "text": [
      "Accuracy score for Random_Forest 0.4864864864864865\n",
      "F1 score for Random Forest: 0.4864864864864865\n"
     ]
    }
   ],
   "source": [
    "print('Accuracy score for Random_Forest {1}\\nF1 score for Random Forest: {1}'.format(accuracy_score(preds_rf, y_valid ), f1_score(preds_rf,y_valid)))"
   ]
  },
  {
   "cell_type": "code",
   "execution_count": 41,
   "id": "4189ddbc-e210-4053-97bd-bd7d22e8dc8d",
   "metadata": {},
   "outputs": [
    {
     "name": "stdout",
     "output_type": "stream",
     "text": [
      "Accuracy score for  SVM 0.5660377358490566\n"
     ]
    }
   ],
   "source": [
    "print('Accuracy score for  SVM {1}'.format(accuracy_score(preds_sv,y_valid),f1_score(preds_sv,y_valid)))"
   ]
  },
  {
   "cell_type": "markdown",
   "id": "92c9826c-e965-4d8a-90c5-58da0a0335b1",
   "metadata": {},
   "source": [
    "### Determining the optimal max_depth for RANDOM FOREST"
   ]
  },
  {
   "cell_type": "code",
   "execution_count": 27,
   "id": "8c31ce63-78a1-41d0-b0db-72ede69c2e01",
   "metadata": {},
   "outputs": [
    {
     "data": {
      "text/plain": [
       "<matplotlib.legend.Legend at 0x1ef80b4d910>"
      ]
     },
     "execution_count": 27,
     "metadata": {},
     "output_type": "execute_result"
    },
    {
     "data": {
      "image/png": "[encoded data removed]",
      "text/plain": [
       "<Figure size 432x288 with 1 Axes>"
      ]
     },
     "metadata": {},
     "output_type": "display_data"
    }
   ],
   "source": [
    "f1score_train = []\n",
    "f1score_valid = []\n",
    "\n",
    "depth = range (3,15)\n",
    "\n",
    "for i in  depth:\n",
    "    model = RandomForestClassifier(max_depth = i , n_estimators = 25 , random_state = 0)\n",
    "    model.fit(x_train,y_train)\n",
    "    \n",
    "    train_preds = model.predict(x_train)\n",
    "    valid_preds = model.predict(x_valid)\n",
    "    \n",
    "    \n",
    "    f1score_train.append(f1_score(train_preds,y_train))\n",
    "    f1score_valid.append(f1_score(valid_preds,y_valid))\n",
    "\n",
    "plt.plot(depth, f1score_train,color = 'r')\n",
    "plt.plot(depth,f1score_valid, color = 'b')\n",
    "plt.legend(['Training F1 Score','Validation F1 Score'])\n"
   ]
  },
  {
   "cell_type": "markdown",
   "id": "c657b607-b2f7-4d35-aafe-2c82c8821088",
   "metadata": {},
   "source": [
    "#### Final Model"
   ]
  },
  {
   "cell_type": "code",
   "execution_count": 28,
   "id": "60e709f7-49d0-4dcc-b135-42028eb2159b",
   "metadata": {},
   "outputs": [],
   "source": [
    "final_model = RandomForestClassifier(max_depth = 5 , n_estimators = 25, random_state = 0 )\n",
    "final_model.fit(x_train , y_train)\n",
    "preds = final_model.predict(x_valid)"
   ]
  },
  {
   "cell_type": "code",
   "execution_count": 29,
   "id": "dbf974c8-cc4f-4787-8749-aa7b43676569",
   "metadata": {},
   "outputs": [
    {
     "name": "stdout",
     "output_type": "stream",
     "text": [
      "Accuracy score for final model : 0.4358974358974359\n",
      "F1 score for final model:0.47619047619047616\n"
     ]
    }
   ],
   "source": [
    "print('Accuracy score for final model : {0}\\nF1 score for final model:{1}'.format(accuracy_score(preds,y_valid),f1_score(preds,y_valid)))"
   ]
  },
  {
   "cell_type": "code",
   "execution_count": 30,
   "id": "93d7310a-0bae-44a3-accc-f2fed6224563",
   "metadata": {},
   "outputs": [
    {
     "name": "stdout",
     "output_type": "stream",
     "text": [
      "              precision    recall  f1-score   support\n",
      "\n",
      "           0       0.35      0.44      0.39        16\n",
      "           1       0.53      0.43      0.48        23\n",
      "\n",
      "    accuracy                           0.44        39\n",
      "   macro avg       0.44      0.44      0.43        39\n",
      "weighted avg       0.45      0.44      0.44        39\n",
      "\n"
     ]
    }
   ],
   "source": [
    "print(classification_report(preds, y_valid))"
   ]
  },
  {
   "cell_type": "markdown",
   "id": "b5930c03-b1ab-424b-9a5a-7e379e0b6a2f",
   "metadata": {},
   "source": [
    "## Deploying the Model"
   ]
  },
  {
   "cell_type": "markdown",
   "id": "638d2f6a-0e77-4d8c-a7c9-5a0753d5f875",
   "metadata": {},
   "source": [
    "Deployment is the process by which a ML model is moved from an offline environment and integrated into an existing production environment, such as a live application."
   ]
  },
  {
   "cell_type": "code",
   "execution_count": 36,
   "id": "f107b52d-efbf-429c-b84d-6631af7e9fc0",
   "metadata": {},
   "outputs": [],
   "source": [
    "import pickle\n",
    "# save model to disk\n",
    "filename = 'model.pkl'\n",
    "pickle.dump(final_model, open(filename, 'wb'))# means write as binary"
   ]
  },
  {
   "cell_type": "markdown",
   "id": "ed170c33-f1c9-4d3e-974e-8920f56e5f4b",
   "metadata": {},
   "source": [
    "### To read the model from file"
   ]
  },
  {
   "cell_type": "code",
   "execution_count": 37,
   "id": "16645604-5fb1-4aa6-8b7d-76b7ec9cb1b8",
   "metadata": {},
   "outputs": [],
   "source": [
    "# load  the  model from disk\n",
    "loaded_model = pickle.load(open(filename, 'rb'))\n",
    "preds = loaded_model.predict(x_valid)"
   ]
  },
  {
   "cell_type": "code",
   "execution_count": 38,
   "id": "cae6e7d3-bf62-4ece-908c-223c74e08920",
   "metadata": {},
   "outputs": [
    {
     "name": "stdout",
     "output_type": "stream",
     "text": [
      "Accuracy score: 0.4358974358974359\n",
      "F 1 score: 0.47619047619047616\n"
     ]
    }
   ],
   "source": [
    "print('Accuracy score: {0}\\nF 1 score: {1}'. format(accuracy_score(preds,y_valid),f1_score(preds,y_valid)))"
   ]
  }
 ],
 "metadata": {
  "kernelspec": {
   "display_name": "Python 3",
   "language": "python",
   "name": "python3"
  },
  "language_info": {
   "codemirror_mode": {
    "name": "ipython",
    "version": 3
   },
   "file_extension": ".py",
   "mimetype": "text/x-python",
   "name": "python",
   "nbconvert_exporter": "python",
   "pygments_lexer": "ipython3",
   "version": "3.8.8"
  }
 },
 "nbformat": 4,
 "nbformat_minor": 5
}
