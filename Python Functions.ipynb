{
 "cells": [
  {
   "cell_type": "code",
   "execution_count": 3,
   "id": "d85c5235-b754-4697-950b-0b59dbe456f9",
   "metadata": {},
   "outputs": [
    {
     "name": "stdout",
     "output_type": "stream",
     "text": [
      "Apply function\n",
      "to the next line\n"
     ]
    }
   ],
   "source": [
    "def greet():\n",
    "    print(\"Apply function\")\n",
    "    print(\"to the next line\")\n",
    "    \n",
    "greet()"
   ]
  },
  {
   "cell_type": "code",
   "execution_count": 9,
   "id": "64ea6bfa-4507-4e99-a6c2-862bdb573250",
   "metadata": {},
   "outputs": [],
   "source": [
    "# Arguments\n",
    "def greet (first_name, last_name):\n",
    "    print(f\"Hae {first_name} {last_name}\")\n",
    "    print(\"Welcome aboard.\")"
   ]
  },
  {
   "cell_type": "code",
   "execution_count": 19,
   "id": "5f5f45c0-44af-4f5a-8f20-84f868c19308",
   "metadata": {},
   "outputs": [
    {
     "name": "stdout",
     "output_type": "stream",
     "text": [
      "Hae Dennis Murithi\n",
      "Welcome aboard.\n",
      "Hae Grace murithi\n",
      "Welcome aboard.\n"
     ]
    }
   ],
   "source": [
    "greet(\"Dennis\",\"Murithi\")\n",
    "greet(\"Grace\",\"murithi\")"
   ]
  },
  {
   "cell_type": "code",
   "execution_count": 17,
   "id": "302e380f-3a5d-4196-9846-02857ff4b877",
   "metadata": {},
   "outputs": [],
   "source": [
    "def kq(name):\n",
    "    print(f\"Gooodmorning {name}\")\n",
    "    print(\"You are on board Kenya Airways.\")\n",
    "    print(\"Thankyou. Enjoy your trip.\")"
   ]
  },
  {
   "cell_type": "code",
   "execution_count": 18,
   "id": "748fdcb8-86b2-4e86-8f9e-4803d305665d",
   "metadata": {},
   "outputs": [
    {
     "name": "stdout",
     "output_type": "stream",
     "text": [
      "Gooodmorning passengers\n",
      "You are on board Kenya Airways.\n",
      "Thankyou. Enjoy your trip.\n"
     ]
    }
   ],
   "source": [
    "kq(\"passengers\")"
   ]
  },
  {
   "cell_type": "code",
   "execution_count": null,
   "id": "38675302-5450-4717-b6c5-f58454941f4f",
   "metadata": {},
   "outputs": [],
   "source": [
    "# 1.functions that perform a task\n",
    "# 2. functions that calculate and return a value"
   ]
  },
  {
   "cell_type": "code",
   "execution_count": 20,
   "id": "0c8c5aa7-434c-4719-b93f-8ae1a547feda",
   "metadata": {},
   "outputs": [],
   "source": [
    "def get_greeting(name):\n",
    "    return f\"Hi {name}\""
   ]
  },
  {
   "cell_type": "code",
   "execution_count": 23,
   "id": "a90a9b45-f656-424e-b6b7-de2146a376eb",
   "metadata": {},
   "outputs": [
    {
     "name": "stdout",
     "output_type": "stream",
     "text": [
      "Hi Dennis\n"
     ]
    },
    {
     "data": {
      "text/plain": [
       "9"
      ]
     },
     "execution_count": 23,
     "metadata": {},
     "output_type": "execute_result"
    }
   ],
   "source": [
    "value = get_greeting(\"Dennis\")\n",
    "print(value)\n",
    "file = open(\"content.txt\",\"w\")\n",
    "file.write(value)"
   ]
  },
  {
   "cell_type": "code",
   "execution_count": 28,
   "id": "33d70465-0e2a-478c-9091-00351c0eb6a4",
   "metadata": {},
   "outputs": [
    {
     "name": "stdout",
     "output_type": "stream",
     "text": [
      "3\n",
      "3\n",
      "3\n"
     ]
    }
   ],
   "source": [
    "# keyword arguments\n",
    "def increment (number, by):\n",
    "    return number + by\n",
    "\n",
    "result = increment(2,1)\n",
    "print(result)\n",
    "# or\n",
    "print(increment(2,1))\n",
    "\n",
    "# making it more readable by adding a key word argument\n",
    "print(increment(2,by = 1))"
   ]
  },
  {
   "cell_type": "code",
   "execution_count": 32,
   "id": "42b9ffb8-80d8-4560-8552-c1ea453e5e80",
   "metadata": {},
   "outputs": [
    {
     "name": "stdout",
     "output_type": "stream",
     "text": [
      "3\n",
      "12\n"
     ]
    }
   ],
   "source": [
    "# Default arguments\n",
    "def increment1 (number, by =1):\n",
    "    return number+ by\n",
    "print(increment1(2))\n",
    "\n",
    "# by is an optional parameter in this kind of function\n",
    "print(increment(2, 10))"
   ]
  },
  {
   "cell_type": "code",
   "execution_count": 57,
   "id": "b0b5e6d6-1243-4231-b7cb-0df8db211be5",
   "metadata": {},
   "outputs": [
    {
     "name": "stdout",
     "output_type": "stream",
     "text": [
      "91\n",
      "300\n"
     ]
    }
   ],
   "source": [
    "# *arg, walt , what?\n",
    "def multiply(x,y):\n",
    "    return x*y\n",
    "print(multiply(13,7))\n",
    "\n",
    "# to in clude multiple numbers  for multiplication rather than two\n",
    "def multiply1(*numbers):\n",
    "    total = 1\n",
    "    for number in numbers:\n",
    "        total = total * number\n",
    "        # or total = *number\n",
    "    return total\n",
    "        \n",
    "print(multiply1(2,3,5,10))"
   ]
  },
  {
   "cell_type": "code",
   "execution_count": 59,
   "id": "2083fe7d-ec38-46e8-a611-3b7aa9b8cdd9",
   "metadata": {},
   "outputs": [
    {
     "name": "stdout",
     "output_type": "stream",
     "text": [
      "150\n"
     ]
    }
   ],
   "source": [
    "def multi (*numbers):\n",
    "    total = 5\n",
    "    for number in numbers :\n",
    "        total = total *number\n",
    "    return total\n",
    "print(multi(3,10))"
   ]
  },
  {
   "cell_type": "code",
   "execution_count": 51,
   "id": "edb7e015-5aba-4503-ab64-751dc847baa5",
   "metadata": {},
   "outputs": [
    {
     "name": "stdout",
     "output_type": "stream",
     "text": [
      "2\n",
      "3\n",
      "4\n",
      "5\n"
     ]
    }
   ],
   "source": [
    "def multiply3(*numbers):\n",
    "    for number in numbers:\n",
    "        print(number)\n",
    "        \n",
    "multiply3(2,3,4,5)"
   ]
  },
  {
   "cell_type": "code",
   "execution_count": 65,
   "id": "bf7c44c1-58d5-4287-9b46-a5ac3e13b848",
   "metadata": {},
   "outputs": [
    {
     "name": "stdout",
     "output_type": "stream",
     "text": [
      "{'id': 1, 'name': 'Tommy', 'age': 25}\n",
      "Tommy\n",
      "25\n"
     ]
    }
   ],
   "source": [
    "# **Args \n",
    "# Dictonary\n",
    "def save_user(**user):\n",
    "    print(user)\n",
    "    print(user[\"name\"])\n",
    "    print(user[\"age\"])\n",
    "    \n",
    "    \n",
    "save_user(id=1,name = \"Tommy\", age = 25)\n"
   ]
  },
  {
   "cell_type": "code",
   "execution_count": 68,
   "id": "99433a1b-bf1d-4cb9-8592-367334cd281f",
   "metadata": {},
   "outputs": [
    {
     "name": "stdout",
     "output_type": "stream",
     "text": [
      "a\n"
     ]
    }
   ],
   "source": [
    "# SCOPE\n",
    "message = \"Goodmorning Sir\"\n",
    "\n",
    "def greet(name):\n",
    "    global message\n",
    "    message = \"a\"\n",
    "    \n",
    "def send_email(name):\n",
    "    message = \"Find attached the email below\"\n",
    "    \n",
    "greet(\"murithi\")\n",
    "print(message)"
   ]
  },
  {
   "cell_type": "code",
   "execution_count": 79,
   "id": "26632413-dc71-41e7-8b24-d4e941e6ec5c",
   "metadata": {},
   "outputs": [
    {
     "name": "stdout",
     "output_type": "stream",
     "text": [
      "Fizz\n",
      "Buzz\n",
      "FizzBuzz\n",
      "7\n"
     ]
    }
   ],
   "source": [
    "#  fizz_buzz algorith exercise\n",
    "# Function to return fiz if number is divisible by 3\n",
    "# Function to return buzz if number is divisible by 5\n",
    "# Function to return fizz_buzz if number is divisible by 3 and 5\n",
    "# Function to return the number itself, if the number is not divisble by either.(e.g if its 7 return 7)\n",
    "\n",
    "def fizz_buzz(input):\n",
    "    if (input % 3 ==0) and (input % 5 == 0):\n",
    "        return \"FizzBuzz\"\n",
    "    if input % 3 == 0:\n",
    "        return \"Fizz\"\n",
    "    if input % 5 == 0:\n",
    "        return \"Buzz\"\n",
    "    return input\n",
    "\n",
    "    \n",
    "print(fizz_buzz(9))\n",
    "print(fizz_buzz(10))\n",
    "print(fizz_buzz(15))\n",
    "print(fizz_buzz(7))"
   ]
  },
  {
   "cell_type": "code",
   "execution_count": null,
   "id": "c0b04c9f-397f-4b9a-8848-673a146744b0",
   "metadata": {},
   "outputs": [],
   "source": []
  }
 ],
 "metadata": {
  "kernelspec": {
   "display_name": "Python 3",
   "language": "python",
   "name": "python3"
  },
  "language_info": {
   "codemirror_mode": {
    "name": "ipython",
    "version": 3
   },
   "file_extension": ".py",
   "mimetype": "text/x-python",
   "name": "python",
   "nbconvert_exporter": "python",
   "pygments_lexer": "ipython3",
   "version": "3.8.8"
  }
 },
 "nbformat": 4,
 "nbformat_minor": 5
}
