{
  "nbformat": 4,
  "nbformat_minor": 0,
  "metadata": {
    "colab": {
      "provenance": [],
      "include_colab_link": true
    },
    "kernelspec": {
      "name": "ir",
      "display_name": "R"
    },
    "language_info": {
      "name": "R"
    }
  },
  "cells": [
    {
      "cell_type": "markdown",
      "metadata": {
        "id": "view-in-github",
        "colab_type": "text"
      },
      "source": [
        "<a href=\"https://colab.research.google.com/github/dennisaltegaz174/Python-scripts/blob/main/practical_1_0.ipynb\" target=\"_parent\"><img src=\"https://colab.research.google.com/assets/colab-badge.svg\" alt=\"Open In Colab\"/></a>"
      ]
    },
    {
      "cell_type": "markdown",
      "source": [
        "**1.** This exercise relates to the College data set, which can be found in\n",
        "the file College.csv. It contains a number of variables for 777 different\n",
        "universities and colleges in the US. The variables are\n",
        "*    Private : Public/private indicator\n",
        "*   Apps : Number of applications received\n",
        "* Accept : Number of applicants accepted\n",
        "* Enroll : Number of new students enrolled\n",
        "* Top10perc : New students from top 10 % of high school class\n",
        "* Top25perc : New students from top 25 % of high school class\n",
        "*  F.Undergrad : Number of full-time undergraduates\n",
        "*  P.Undergrad : Number of part-time undergraduates\n",
        "*  Outstate : Out-of-state tuition\n",
        "* Room.Board : Room and board costs\n",
        "* Books : Estimated book costs\n",
        "*  Personal : Estimated personal spending\n",
        "*  PhD : Percent of faculty with Ph.D.’s\n",
        "*  Terminal : Percent of faculty with terminal degree\n",
        "*  S.F.Ratio : Student/faculty ratio\n",
        "*  perc.alumni : Percent of alumni who donate\n",
        "* Expend : Instructional expenditure per student\n",
        "*  Grad.Rate : Graduation rate\n",
        "\n",
        "\n"
      ],
      "metadata": {
        "id": "7rFVtB-sSP0a"
      }
    },
    {
      "cell_type": "markdown",
      "source": [
        "(a) Use the read.csv() function to read the data into R. Call the\n",
        "loaded data college. Make sure that you have the directory set\n",
        "to the correct location for the data."
      ],
      "metadata": {
        "id": "LKXYicaITyjk"
      }
    },
    {
      "cell_type": "code",
      "source": [
        "college=read.csv(\"https://raw.githubusercontent.com/asadoughi/stat-learning/46663b52323348e9bd833ba35d27ecb1fa54b8db/data/College.csv\")\n",
        "head(college)"
      ],
      "metadata": {
        "colab": {
          "base_uri": "https://localhost:8080/",
          "height": 462
        },
        "id": "gxzG7qO6UDws",
        "outputId": "1920fe42-6696-4edb-8f41-3064e5cbf8c4"
      },
      "execution_count": null,
      "outputs": [
        {
          "output_type": "display_data",
          "data": {
            "text/html": [
              "<table class=\"dataframe\">\n",
              "<caption>A data.frame: 6 × 19</caption>\n",
              "<thead>\n",
              "\t<tr><th></th><th scope=col>X</th><th scope=col>Private</th><th scope=col>Apps</th><th scope=col>Accept</th><th scope=col>Enroll</th><th scope=col>Top10perc</th><th scope=col>Top25perc</th><th scope=col>F.Undergrad</th><th scope=col>P.Undergrad</th><th scope=col>Outstate</th><th scope=col>Room.Board</th><th scope=col>Books</th><th scope=col>Personal</th><th scope=col>PhD</th><th scope=col>Terminal</th><th scope=col>S.F.Ratio</th><th scope=col>perc.alumni</th><th scope=col>Expend</th><th scope=col>Grad.Rate</th></tr>\n",
              "\t<tr><th></th><th scope=col>&lt;chr&gt;</th><th scope=col>&lt;chr&gt;</th><th scope=col>&lt;int&gt;</th><th scope=col>&lt;int&gt;</th><th scope=col>&lt;int&gt;</th><th scope=col>&lt;int&gt;</th><th scope=col>&lt;int&gt;</th><th scope=col>&lt;int&gt;</th><th scope=col>&lt;int&gt;</th><th scope=col>&lt;int&gt;</th><th scope=col>&lt;int&gt;</th><th scope=col>&lt;int&gt;</th><th scope=col>&lt;int&gt;</th><th scope=col>&lt;int&gt;</th><th scope=col>&lt;int&gt;</th><th scope=col>&lt;dbl&gt;</th><th scope=col>&lt;int&gt;</th><th scope=col>&lt;int&gt;</th><th scope=col>&lt;int&gt;</th></tr>\n",
              "</thead>\n",
              "<tbody>\n",
              "\t<tr><th scope=row>1</th><td>Abilene Christian University</td><td>Yes</td><td>1660</td><td>1232</td><td>721</td><td>23</td><td>52</td><td>2885</td><td> 537</td><td> 7440</td><td>3300</td><td>450</td><td>2200</td><td>70</td><td>78</td><td>18.1</td><td>12</td><td> 7041</td><td>60</td></tr>\n",
              "\t<tr><th scope=row>2</th><td>Adelphi University          </td><td>Yes</td><td>2186</td><td>1924</td><td>512</td><td>16</td><td>29</td><td>2683</td><td>1227</td><td>12280</td><td>6450</td><td>750</td><td>1500</td><td>29</td><td>30</td><td>12.2</td><td>16</td><td>10527</td><td>56</td></tr>\n",
              "\t<tr><th scope=row>3</th><td>Adrian College              </td><td>Yes</td><td>1428</td><td>1097</td><td>336</td><td>22</td><td>50</td><td>1036</td><td>  99</td><td>11250</td><td>3750</td><td>400</td><td>1165</td><td>53</td><td>66</td><td>12.9</td><td>30</td><td> 8735</td><td>54</td></tr>\n",
              "\t<tr><th scope=row>4</th><td>Agnes Scott College         </td><td>Yes</td><td> 417</td><td> 349</td><td>137</td><td>60</td><td>89</td><td> 510</td><td>  63</td><td>12960</td><td>5450</td><td>450</td><td> 875</td><td>92</td><td>97</td><td> 7.7</td><td>37</td><td>19016</td><td>59</td></tr>\n",
              "\t<tr><th scope=row>5</th><td>Alaska Pacific University   </td><td>Yes</td><td> 193</td><td> 146</td><td> 55</td><td>16</td><td>44</td><td> 249</td><td> 869</td><td> 7560</td><td>4120</td><td>800</td><td>1500</td><td>76</td><td>72</td><td>11.9</td><td> 2</td><td>10922</td><td>15</td></tr>\n",
              "\t<tr><th scope=row>6</th><td>Albertson College           </td><td>Yes</td><td> 587</td><td> 479</td><td>158</td><td>38</td><td>62</td><td> 678</td><td>  41</td><td>13500</td><td>3335</td><td>500</td><td> 675</td><td>67</td><td>73</td><td> 9.4</td><td>11</td><td> 9727</td><td>55</td></tr>\n",
              "</tbody>\n",
              "</table>\n"
            ],
            "text/markdown": "\nA data.frame: 6 × 19\n\n| <!--/--> | X &lt;chr&gt; | Private &lt;chr&gt; | Apps &lt;int&gt; | Accept &lt;int&gt; | Enroll &lt;int&gt; | Top10perc &lt;int&gt; | Top25perc &lt;int&gt; | F.Undergrad &lt;int&gt; | P.Undergrad &lt;int&gt; | Outstate &lt;int&gt; | Room.Board &lt;int&gt; | Books &lt;int&gt; | Personal &lt;int&gt; | PhD &lt;int&gt; | Terminal &lt;int&gt; | S.F.Ratio &lt;dbl&gt; | perc.alumni &lt;int&gt; | Expend &lt;int&gt; | Grad.Rate &lt;int&gt; |\n|---|---|---|---|---|---|---|---|---|---|---|---|---|---|---|---|---|---|---|---|\n| 1 | Abilene Christian University | Yes | 1660 | 1232 | 721 | 23 | 52 | 2885 |  537 |  7440 | 3300 | 450 | 2200 | 70 | 78 | 18.1 | 12 |  7041 | 60 |\n| 2 | Adelphi University           | Yes | 2186 | 1924 | 512 | 16 | 29 | 2683 | 1227 | 12280 | 6450 | 750 | 1500 | 29 | 30 | 12.2 | 16 | 10527 | 56 |\n| 3 | Adrian College               | Yes | 1428 | 1097 | 336 | 22 | 50 | 1036 |   99 | 11250 | 3750 | 400 | 1165 | 53 | 66 | 12.9 | 30 |  8735 | 54 |\n| 4 | Agnes Scott College          | Yes |  417 |  349 | 137 | 60 | 89 |  510 |   63 | 12960 | 5450 | 450 |  875 | 92 | 97 |  7.7 | 37 | 19016 | 59 |\n| 5 | Alaska Pacific University    | Yes |  193 |  146 |  55 | 16 | 44 |  249 |  869 |  7560 | 4120 | 800 | 1500 | 76 | 72 | 11.9 |  2 | 10922 | 15 |\n| 6 | Albertson College            | Yes |  587 |  479 | 158 | 38 | 62 |  678 |   41 | 13500 | 3335 | 500 |  675 | 67 | 73 |  9.4 | 11 |  9727 | 55 |\n\n",
            "text/latex": "A data.frame: 6 × 19\n\\begin{tabular}{r|lllllllllllllllllll}\n  & X & Private & Apps & Accept & Enroll & Top10perc & Top25perc & F.Undergrad & P.Undergrad & Outstate & Room.Board & Books & Personal & PhD & Terminal & S.F.Ratio & perc.alumni & Expend & Grad.Rate\\\\\n  & <chr> & <chr> & <int> & <int> & <int> & <int> & <int> & <int> & <int> & <int> & <int> & <int> & <int> & <int> & <int> & <dbl> & <int> & <int> & <int>\\\\\n\\hline\n\t1 & Abilene Christian University & Yes & 1660 & 1232 & 721 & 23 & 52 & 2885 &  537 &  7440 & 3300 & 450 & 2200 & 70 & 78 & 18.1 & 12 &  7041 & 60\\\\\n\t2 & Adelphi University           & Yes & 2186 & 1924 & 512 & 16 & 29 & 2683 & 1227 & 12280 & 6450 & 750 & 1500 & 29 & 30 & 12.2 & 16 & 10527 & 56\\\\\n\t3 & Adrian College               & Yes & 1428 & 1097 & 336 & 22 & 50 & 1036 &   99 & 11250 & 3750 & 400 & 1165 & 53 & 66 & 12.9 & 30 &  8735 & 54\\\\\n\t4 & Agnes Scott College          & Yes &  417 &  349 & 137 & 60 & 89 &  510 &   63 & 12960 & 5450 & 450 &  875 & 92 & 97 &  7.7 & 37 & 19016 & 59\\\\\n\t5 & Alaska Pacific University    & Yes &  193 &  146 &  55 & 16 & 44 &  249 &  869 &  7560 & 4120 & 800 & 1500 & 76 & 72 & 11.9 &  2 & 10922 & 15\\\\\n\t6 & Albertson College            & Yes &  587 &  479 & 158 & 38 & 62 &  678 &   41 & 13500 & 3335 & 500 &  675 & 67 & 73 &  9.4 & 11 &  9727 & 55\\\\\n\\end{tabular}\n",
            "text/plain": [
              "  X                            Private Apps Accept Enroll Top10perc Top25perc\n",
              "1 Abilene Christian University Yes     1660 1232   721    23        52       \n",
              "2 Adelphi University           Yes     2186 1924   512    16        29       \n",
              "3 Adrian College               Yes     1428 1097   336    22        50       \n",
              "4 Agnes Scott College          Yes      417  349   137    60        89       \n",
              "5 Alaska Pacific University    Yes      193  146    55    16        44       \n",
              "6 Albertson College            Yes      587  479   158    38        62       \n",
              "  F.Undergrad P.Undergrad Outstate Room.Board Books Personal PhD Terminal\n",
              "1 2885         537         7440    3300       450   2200     70  78      \n",
              "2 2683        1227        12280    6450       750   1500     29  30      \n",
              "3 1036          99        11250    3750       400   1165     53  66      \n",
              "4  510          63        12960    5450       450    875     92  97      \n",
              "5  249         869         7560    4120       800   1500     76  72      \n",
              "6  678          41        13500    3335       500    675     67  73      \n",
              "  S.F.Ratio perc.alumni Expend Grad.Rate\n",
              "1 18.1      12           7041  60       \n",
              "2 12.2      16          10527  56       \n",
              "3 12.9      30           8735  54       \n",
              "4  7.7      37          19016  59       \n",
              "5 11.9       2          10922  15       \n",
              "6  9.4      11           9727  55       "
            ]
          },
          "metadata": {}
        }
      ]
    },
    {
      "cell_type": "markdown",
      "source": [
        "(b) Look at the data using the fix() function. You should notice\n",
        "that the first column is just the name of each university. We don’t\n",
        "really want R to treat this as data. However, it may be handy to\n",
        "have these names for later. Try the following commands: ![1.png](data:image/png;base64,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)\n"
      ],
      "metadata": {
        "id": "_4N0e2-iTsER"
      }
    },
    {
      "cell_type": "code",
      "source": [],
      "metadata": {
        "id": "CnD3vQjwU1l-"
      },
      "execution_count": null,
      "outputs": []
    },
    {
      "cell_type": "markdown",
      "source": [
        "You should see that there is now a row.names column with the\n",
        "name of each university recorded. This means that R has given\n",
        "each row a name corresponding to the appropriate university. R\n",
        "will not try to perform calculations on the row names. However,\n",
        "we still need to eliminate the first column in the data where the\n",
        "names are stored. Try ![1.png](data:image/png;base64,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)"
      ],
      "metadata": {
        "id": "1mWQdB_dVFch"
      }
    },
    {
      "cell_type": "code",
      "source": [],
      "metadata": {
        "id": "i22iggcEVPG1"
      },
      "execution_count": null,
      "outputs": []
    },
    {
      "cell_type": "markdown",
      "source": [
        "Now you should see that the first data column is Private. Note\n",
        "that another column labeled row.names now appears before the\n",
        "Private column. However, this is not a data column but rather\n",
        "the name that R is giving to each row."
      ],
      "metadata": {
        "id": "phsuVfXgVbhX"
      }
    },
    {
      "cell_type": "markdown",
      "source": [
        "(c) i. Use the summary() function to produce a numerical summary\n",
        "of the variables in the data set."
      ],
      "metadata": {
        "id": "QI4qSqrbVxAW"
      }
    },
    {
      "cell_type": "code",
      "source": [],
      "metadata": {
        "id": "sZFCiHAAUVx5"
      },
      "execution_count": null,
      "outputs": []
    },
    {
      "cell_type": "markdown",
      "source": [
        "(c) ii. Use the pairs() function to produce a scatterplot matrix of the first ten columns or variables of the data. Recall that\n",
        "you can reference the first ten columns of a matrix A using\n",
        "A[,1:10]."
      ],
      "metadata": {
        "id": "qcuDDG3ITPFj"
      }
    },
    {
      "cell_type": "code",
      "source": [],
      "metadata": {
        "id": "7YM2fe0LWK-M"
      },
      "execution_count": null,
      "outputs": []
    },
    {
      "cell_type": "markdown",
      "source": [
        "(c)iii. Use the plot() function to produce side-by-side boxplots of Outstate versus Private."
      ],
      "metadata": {
        "id": "oe8Bz6k8WLfG"
      }
    },
    {
      "cell_type": "code",
      "source": [],
      "metadata": {
        "id": "3yAa_23xWiDo"
      },
      "execution_count": null,
      "outputs": []
    },
    {
      "cell_type": "markdown",
      "source": [
        "(c)iv. Create a new qualitative variable, called Elite, by binning the Top10perc variable. We are going to divide universities into two groups based on whether or not the proportion of students coming from the top 10 % of their high school classes exceeds 50 %. ![1.png](data:image/png;base64,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)"
      ],
      "metadata": {
        "id": "IXQJsbaJWihf"
      }
    },
    {
      "cell_type": "code",
      "source": [],
      "metadata": {
        "id": "yFr8ivg4W3kn"
      },
      "execution_count": null,
      "outputs": []
    },
    {
      "cell_type": "markdown",
      "source": [
        "Use the summary() function to see how many elite univer\u0002sities there are. Now use the plot() function to produce\n",
        "side-by-side boxplots of Outstate versus Elite."
      ],
      "metadata": {
        "id": "9WMkiumwW38F"
      }
    },
    {
      "cell_type": "code",
      "source": [],
      "metadata": {
        "id": "kKPevJFpW9R_"
      },
      "execution_count": null,
      "outputs": []
    },
    {
      "cell_type": "markdown",
      "source": [
        "(c)v. Use the hist() function to produce some histograms with\n",
        "differing numbers of bins for a few of the quantitative vari\u0002ables. You may find the command par(mfrow=c(2,2)) useful:\n",
        "it will divide the print window into four regions so that four\n",
        "plots can be made simultaneously. Modifying the arguments\n",
        "to this function will divide the screen in other ways."
      ],
      "metadata": {
        "id": "8DnMxulWXCas"
      }
    },
    {
      "cell_type": "code",
      "source": [],
      "metadata": {
        "id": "6IHxc73OXKrE"
      },
      "execution_count": null,
      "outputs": []
    },
    {
      "cell_type": "markdown",
      "source": [
        "c(vi). Continue exploring the data, and provide a brief summary\n",
        "of what you discover.\n"
      ],
      "metadata": {
        "id": "Bx3QO74YXJn1"
      }
    },
    {
      "cell_type": "code",
      "source": [],
      "metadata": {
        "id": "Ds-2Q9-HfJy3"
      },
      "execution_count": null,
      "outputs": []
    }
  ]
}