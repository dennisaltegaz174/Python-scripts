{
 "cells": [
  {
   "cell_type": "code",
   "execution_count": 1,
   "id": "3c8abc2f-b9a5-4977-b450-77a4bd581250",
   "metadata": {},
   "outputs": [],
   "source": [
    "import matplotlib.pyplot as plt\n",
    "import pandas as pd\n",
    "import scipy.stats as st"
   ]
  },
  {
   "cell_type": "code",
   "execution_count": 5,
   "id": "912fd629-d01f-48dc-a881-b849c8b6b281",
   "metadata": {},
   "outputs": [],
   "source": [
    "# Study data files\n",
    "mouse_metadata_path = r'C:\\Users\\user\\Downloads\\starter_Code(3)\\Starter_Code\\Pymaceuticals\\data\\Mouse_metadata.csv'\n",
    "study_results_path = r'C:\\Users\\user\\Downloads\\starter_Code(3)\\Starter_Code\\Pymaceuticals\\data\\Study_results.csv'\n",
    "# Read the mouse data and the study results\n",
    "mouse_metadata = pd.read_csv(mouse_metadata_path)\n",
    "study_results = pd.read_csv(study_results_path)\n",
    "\n",
    "# Combine the data into a single DataFrame\n",
    "#combined_data = pd.merge(mouse_metadata, study_results, on=['Mouse ID'], how='outer')"
   ]
  },
  {
   "cell_type": "code",
   "execution_count": 8,
   "id": "54dd034e-e1ee-4ef7-ae80-b2018dd25af5",
   "metadata": {},
   "outputs": [
    {
     "name": "stdout",
     "output_type": "stream",
     "text": [
      "Combined Data Table:\n",
      "  Mouse ID Drug Regimen   Sex  Age_months  Weight (g)  Timepoint  \\\n",
      "0     k403     Ramicane  Male          21          16          0   \n",
      "1     k403     Ramicane  Male          21          16          5   \n",
      "2     k403     Ramicane  Male          21          16         10   \n",
      "3     k403     Ramicane  Male          21          16         15   \n",
      "4     k403     Ramicane  Male          21          16         20   \n",
      "\n",
      "   Tumor Volume (mm3)  Metastatic Sites  \n",
      "0           45.000000                 0  \n",
      "1           38.825898                 0  \n",
      "2           35.014271                 1  \n",
      "3           34.223992                 1  \n",
      "4           32.997729                 1  \n",
      "The number of mice in the study is: 249\n",
      "Duplicate mice based on Mouse ID and Timepoint:\n"
     ]
    },
    {
     "data": {
      "text/plain": [
       "array(['g989'], dtype=object)"
      ]
     },
     "execution_count": 8,
     "metadata": {},
     "output_type": "execute_result"
    }
   ],
   "source": [
    "# Combine the data into a single DataFrame\n",
    "combined_data = pd.merge(mouse_metadata, study_results, on=\"Mouse ID\", how=\"outer\")\n",
    "\n",
    "# Display the data table for preview\n",
    "print(\"Combined Data Table:\")\n",
    "print(combined_data.head())\n",
    "\n",
    "# Checking the number of mice\n",
    "num_mice = combined_data[\"Mouse ID\"].nunique()\n",
    "print(f\"The number of mice in the study is: {num_mice}\")\n",
    "\n",
    "# Get the duplicate mice by ID number that shows up for Mouse ID and Timepoint\n",
    "duplicate_mice = combined_data[combined_data.duplicated(subset=[\"Mouse ID\", \"Timepoint\"], keep=False)][\"Mouse ID\"].unique()\n",
    "print(\"Duplicate mice based on Mouse ID and Timepoint:\")\n",
    "duplicate_mice"
   ]
  },
  {
   "cell_type": "code",
   "execution_count": 9,
   "id": "274148fe-8af1-4422-bdce-8cdcb607afce",
   "metadata": {},
   "outputs": [
    {
     "name": "stdout",
     "output_type": "stream",
     "text": [
      "Data for the duplicate mouse IDs:\n",
      "    Mouse ID Drug Regimen     Sex  Age_months  Weight (g)  Timepoint  \\\n",
      "908     g989     Propriva  Female          21          26          0   \n",
      "909     g989     Propriva  Female          21          26          0   \n",
      "910     g989     Propriva  Female          21          26          5   \n",
      "911     g989     Propriva  Female          21          26          5   \n",
      "912     g989     Propriva  Female          21          26         10   \n",
      "913     g989     Propriva  Female          21          26         10   \n",
      "914     g989     Propriva  Female          21          26         15   \n",
      "915     g989     Propriva  Female          21          26         15   \n",
      "916     g989     Propriva  Female          21          26         20   \n",
      "917     g989     Propriva  Female          21          26         20   \n",
      "918     g989     Propriva  Female          21          26         25   \n",
      "919     g989     Propriva  Female          21          26         30   \n",
      "920     g989     Propriva  Female          21          26         35   \n",
      "\n",
      "     Tumor Volume (mm3)  Metastatic Sites  \n",
      "908           45.000000                 0  \n",
      "909           45.000000                 0  \n",
      "910           48.786801                 0  \n",
      "911           47.570392                 0  \n",
      "912           51.745156                 0  \n",
      "913           49.880528                 0  \n",
      "914           51.325852                 1  \n",
      "915           53.442020                 0  \n",
      "916           55.326122                 1  \n",
      "917           54.657650                 1  \n",
      "918           56.045564                 1  \n",
      "919           59.082294                 1  \n",
      "920           62.570880                 2  \n",
      "The number of mice in the clean DataFrame is: 249\n"
     ]
    }
   ],
   "source": [
    "# Get all the data for the duplicate mouse IDs\n",
    "duplicate_data = combined_data[combined_data[\"Mouse ID\"].isin(duplicate_mice)]\n",
    "print(\"Data for the duplicate mouse IDs:\")\n",
    "print(duplicate_data)\n",
    "\n",
    "# Create a clean DataFrame by dropping the duplicate mouse by its ID\n",
    "clean_data = combined_data.drop_duplicates(subset=[\"Mouse ID\"], keep=\"first\")\n",
    "\n",
    "# Checking the number of mice in the clean DataFrame\n",
    "num_mice_clean = clean_data[\"Mouse ID\"].nunique()\n",
    "print(f\"The number of mice in the clean DataFrame is: {num_mice_clean}\")"
   ]
  },
  {
   "cell_type": "code",
   "execution_count": 10,
   "id": "0b587ceb-378c-4bb6-99ba-e3beb13c1483",
   "metadata": {},
   "outputs": [
    {
     "name": "stdout",
     "output_type": "stream",
     "text": [
      "The number of mice in the clean DataFrame is: 249\n"
     ]
    }
   ],
   "source": [
    "# Create a clean DataFrame by dropping the duplicate mouse by its ID\n",
    "clean_data = combined_data.drop_duplicates(subset=[\"Mouse ID\"], keep=\"first\").reset_index(drop=True)\n",
    "\n",
    "# Checking the number of mice in the clean DataFrame\n",
    "num_mice_clean = clean_data[\"Mouse ID\"].nunique()\n",
    "print(f\"The number of mice in the clean DataFrame is: {num_mice_clean}\")\n"
   ]
  }
 ],
 "metadata": {
  "kernelspec": {
   "display_name": "Python 3 (ipykernel)",
   "language": "python",
   "name": "python3"
  },
  "language_info": {
   "codemirror_mode": {
    "name": "ipython",
    "version": 3
   },
   "file_extension": ".py",
   "mimetype": "text/x-python",
   "name": "python",
   "nbconvert_exporter": "python",
   "pygments_lexer": "ipython3",
   "version": "3.9.13"
  }
 },
 "nbformat": 4,
 "nbformat_minor": 5
}
